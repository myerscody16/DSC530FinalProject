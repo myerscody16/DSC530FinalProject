{
 "cells": [
  {
   "cell_type": "code",
   "execution_count": 1,
   "metadata": {},
   "outputs": [],
   "source": [
    "import nsfg\n",
    "import pandas as pd\n",
    "import thinkstats2\n",
    "import numpy as np\n",
    "import thinkplot\n",
    "import scipy.stats"
   ]
  },
  {
   "cell_type": "code",
   "execution_count": 2,
   "metadata": {},
   "outputs": [],
   "source": [
    "pregnancyData = nsfg.ReadFemPreg()"
   ]
  },
  {
   "cell_type": "code",
   "execution_count": 3,
   "metadata": {},
   "outputs": [
    {
     "data": {
      "text/plain": [
       "['caseid',\n",
       " 'pregordr',\n",
       " 'howpreg_n',\n",
       " 'howpreg_p',\n",
       " 'moscurrp',\n",
       " 'nowprgdk',\n",
       " 'pregend1',\n",
       " 'pregend2',\n",
       " 'nbrnaliv',\n",
       " 'multbrth',\n",
       " 'cmotpreg',\n",
       " 'prgoutcome',\n",
       " 'cmprgend',\n",
       " 'flgdkmo1',\n",
       " 'cmprgbeg',\n",
       " 'ageatend',\n",
       " 'hpageend',\n",
       " 'gestasun_m',\n",
       " 'gestasun_w',\n",
       " 'wksgest',\n",
       " 'mosgest',\n",
       " 'dk1gest',\n",
       " 'dk2gest',\n",
       " 'dk3gest',\n",
       " 'bpa_bdscheck1',\n",
       " 'bpa_bdscheck2',\n",
       " 'bpa_bdscheck3',\n",
       " 'babysex',\n",
       " 'birthwgt_lb',\n",
       " 'birthwgt_oz',\n",
       " 'lobthwgt',\n",
       " 'babysex2',\n",
       " 'birthwgt_lb2',\n",
       " 'birthwgt_oz2',\n",
       " 'lobthwgt2',\n",
       " 'babysex3',\n",
       " 'birthwgt_lb3',\n",
       " 'birthwgt_oz3',\n",
       " 'lobthwgt3',\n",
       " 'cmbabdob',\n",
       " 'kidage',\n",
       " 'hpagelb',\n",
       " 'birthplc',\n",
       " 'paybirth1',\n",
       " 'paybirth2',\n",
       " 'paybirth3',\n",
       " 'knewpreg',\n",
       " 'trimestr',\n",
       " 'ltrimest',\n",
       " 'priorsmk',\n",
       " 'postsmks',\n",
       " 'npostsmk',\n",
       " 'getprena',\n",
       " 'bgnprena',\n",
       " 'pnctrim',\n",
       " 'lpnctri',\n",
       " 'workpreg',\n",
       " 'workborn',\n",
       " 'didwork',\n",
       " 'matweeks',\n",
       " 'weeksdk',\n",
       " 'matleave',\n",
       " 'matchfound',\n",
       " 'livehere',\n",
       " 'alivenow',\n",
       " 'cmkidied',\n",
       " 'cmkidlft',\n",
       " 'lastage',\n",
       " 'wherenow',\n",
       " 'legagree',\n",
       " 'parenend',\n",
       " 'anynurse',\n",
       " 'fedsolid',\n",
       " 'frsteatd_n',\n",
       " 'frsteatd_p',\n",
       " 'frsteatd',\n",
       " 'quitnurs',\n",
       " 'ageqtnur_n',\n",
       " 'ageqtnur_p',\n",
       " 'ageqtnur',\n",
       " 'matchfound2',\n",
       " 'livehere2',\n",
       " 'alivenow2',\n",
       " 'cmkidied2',\n",
       " 'cmkidlft2',\n",
       " 'lastage2',\n",
       " 'wherenow2',\n",
       " 'legagree2',\n",
       " 'parenend2',\n",
       " 'anynurse2',\n",
       " 'fedsolid2',\n",
       " 'frsteatd_n2',\n",
       " 'frsteatd_p2',\n",
       " 'frsteatd2',\n",
       " 'quitnurs2',\n",
       " 'ageqtnur_n2',\n",
       " 'ageqtnur_p2',\n",
       " 'ageqtnur2',\n",
       " 'matchfound3',\n",
       " 'livehere3',\n",
       " 'alivenow3',\n",
       " 'cmkidied3',\n",
       " 'cmkidlft3',\n",
       " 'lastage3',\n",
       " 'wherenow3',\n",
       " 'legagree3',\n",
       " 'parenend3',\n",
       " 'anynurse3',\n",
       " 'fedsolid3',\n",
       " 'frsteatd_n3',\n",
       " 'frsteatd_p3',\n",
       " 'frsteatd3',\n",
       " 'quitnurs3',\n",
       " 'ageqtnur_n3',\n",
       " 'ageqtnur_p3',\n",
       " 'ageqtnur3',\n",
       " 'cmlastlb',\n",
       " 'cmfstprg',\n",
       " 'cmlstprg',\n",
       " 'cmintstr',\n",
       " 'cmintfin',\n",
       " 'cmintstrop',\n",
       " 'cmintfinop',\n",
       " 'cmintstrcr',\n",
       " 'cmintfincr',\n",
       " 'evuseint',\n",
       " 'stopduse',\n",
       " 'whystopd',\n",
       " 'whatmeth01',\n",
       " 'whatmeth02',\n",
       " 'whatmeth03',\n",
       " 'whatmeth04',\n",
       " 'resnouse',\n",
       " 'wantbold',\n",
       " 'probbabe',\n",
       " 'cnfrmno',\n",
       " 'wantbld2',\n",
       " 'timingok',\n",
       " 'toosoon_n',\n",
       " 'toosoon_p',\n",
       " 'wthpart1',\n",
       " 'wthpart2',\n",
       " 'feelinpg',\n",
       " 'hpwnold',\n",
       " 'timokhp',\n",
       " 'cohpbeg',\n",
       " 'cohpend',\n",
       " 'tellfath',\n",
       " 'whentell',\n",
       " 'tryscale',\n",
       " 'wantscal',\n",
       " 'whyprg1',\n",
       " 'whyprg2',\n",
       " 'whynouse1',\n",
       " 'whynouse2',\n",
       " 'whynouse3',\n",
       " 'anyusint',\n",
       " 'prglngth',\n",
       " 'outcome',\n",
       " 'birthord',\n",
       " 'datend',\n",
       " 'agepreg',\n",
       " 'datecon',\n",
       " 'agecon',\n",
       " 'fmarout5',\n",
       " 'pmarpreg',\n",
       " 'rmarout6',\n",
       " 'fmarcon5',\n",
       " 'learnprg',\n",
       " 'pncarewk',\n",
       " 'paydeliv',\n",
       " 'lbw1',\n",
       " 'bfeedwks',\n",
       " 'maternlv',\n",
       " 'oldwantr',\n",
       " 'oldwantp',\n",
       " 'wantresp',\n",
       " 'wantpart',\n",
       " 'cmbirth',\n",
       " 'ager',\n",
       " 'agescrn',\n",
       " 'fmarital',\n",
       " 'rmarital',\n",
       " 'educat',\n",
       " 'hieduc',\n",
       " 'race',\n",
       " 'hispanic',\n",
       " 'hisprace',\n",
       " 'rcurpreg',\n",
       " 'pregnum',\n",
       " 'parity',\n",
       " 'insuranc',\n",
       " 'pubassis',\n",
       " 'poverty',\n",
       " 'laborfor',\n",
       " 'religion',\n",
       " 'metro',\n",
       " 'brnout',\n",
       " 'yrstrus',\n",
       " 'prglngth_i',\n",
       " 'outcome_i',\n",
       " 'birthord_i',\n",
       " 'datend_i',\n",
       " 'agepreg_i',\n",
       " 'datecon_i',\n",
       " 'agecon_i',\n",
       " 'fmarout5_i',\n",
       " 'pmarpreg_i',\n",
       " 'rmarout6_i',\n",
       " 'fmarcon5_i',\n",
       " 'learnprg_i',\n",
       " 'pncarewk_i',\n",
       " 'paydeliv_i',\n",
       " 'lbw1_i',\n",
       " 'bfeedwks_i',\n",
       " 'maternlv_i',\n",
       " 'oldwantr_i',\n",
       " 'oldwantp_i',\n",
       " 'wantresp_i',\n",
       " 'wantpart_i',\n",
       " 'ager_i',\n",
       " 'fmarital_i',\n",
       " 'rmarital_i',\n",
       " 'educat_i',\n",
       " 'hieduc_i',\n",
       " 'race_i',\n",
       " 'hispanic_i',\n",
       " 'hisprace_i',\n",
       " 'rcurpreg_i',\n",
       " 'pregnum_i',\n",
       " 'parity_i',\n",
       " 'insuranc_i',\n",
       " 'pubassis_i',\n",
       " 'poverty_i',\n",
       " 'laborfor_i',\n",
       " 'religion_i',\n",
       " 'metro_i',\n",
       " 'basewgt',\n",
       " 'adj_mod_basewgt',\n",
       " 'finalwgt',\n",
       " 'secu_p',\n",
       " 'sest',\n",
       " 'cmintvw',\n",
       " 'totalwgt_lb']"
      ]
     },
     "execution_count": 3,
     "metadata": {},
     "output_type": "execute_result"
    }
   ],
   "source": [
    "list(pregnancyData)"
   ]
  },
  {
   "cell_type": "code",
   "execution_count": 4,
   "metadata": {},
   "outputs": [],
   "source": [
    "preg = pregnancyData[['caseid', 'poverty', 'religion', 'educat', 'prgoutcome', 'pregnum']]"
   ]
  },
  {
   "cell_type": "code",
   "execution_count": 5,
   "metadata": {},
   "outputs": [
    {
     "data": {
      "text/html": [
       "<div>\n",
       "<style scoped>\n",
       "    .dataframe tbody tr th:only-of-type {\n",
       "        vertical-align: middle;\n",
       "    }\n",
       "\n",
       "    .dataframe tbody tr th {\n",
       "        vertical-align: top;\n",
       "    }\n",
       "\n",
       "    .dataframe thead th {\n",
       "        text-align: right;\n",
       "    }\n",
       "</style>\n",
       "<table border=\"1\" class=\"dataframe\">\n",
       "  <thead>\n",
       "    <tr style=\"text-align: right;\">\n",
       "      <th></th>\n",
       "      <th>caseid</th>\n",
       "      <th>poverty</th>\n",
       "      <th>religion</th>\n",
       "      <th>educat</th>\n",
       "      <th>prgoutcome</th>\n",
       "      <th>pregnum</th>\n",
       "    </tr>\n",
       "  </thead>\n",
       "  <tbody>\n",
       "    <tr>\n",
       "      <th>0</th>\n",
       "      <td>1</td>\n",
       "      <td>469</td>\n",
       "      <td>2</td>\n",
       "      <td>16</td>\n",
       "      <td>1.0</td>\n",
       "      <td>2</td>\n",
       "    </tr>\n",
       "    <tr>\n",
       "      <th>1</th>\n",
       "      <td>1</td>\n",
       "      <td>469</td>\n",
       "      <td>2</td>\n",
       "      <td>16</td>\n",
       "      <td>1.0</td>\n",
       "      <td>2</td>\n",
       "    </tr>\n",
       "    <tr>\n",
       "      <th>2</th>\n",
       "      <td>2</td>\n",
       "      <td>100</td>\n",
       "      <td>3</td>\n",
       "      <td>11</td>\n",
       "      <td>1.0</td>\n",
       "      <td>3</td>\n",
       "    </tr>\n",
       "    <tr>\n",
       "      <th>3</th>\n",
       "      <td>2</td>\n",
       "      <td>100</td>\n",
       "      <td>3</td>\n",
       "      <td>11</td>\n",
       "      <td>1.0</td>\n",
       "      <td>3</td>\n",
       "    </tr>\n",
       "    <tr>\n",
       "      <th>4</th>\n",
       "      <td>2</td>\n",
       "      <td>100</td>\n",
       "      <td>3</td>\n",
       "      <td>11</td>\n",
       "      <td>1.0</td>\n",
       "      <td>3</td>\n",
       "    </tr>\n",
       "  </tbody>\n",
       "</table>\n",
       "</div>"
      ],
      "text/plain": [
       "   caseid  poverty  religion  educat  prgoutcome  pregnum\n",
       "0       1      469         2      16         1.0        2\n",
       "1       1      469         2      16         1.0        2\n",
       "2       2      100         3      11         1.0        3\n",
       "3       2      100         3      11         1.0        3\n",
       "4       2      100         3      11         1.0        3"
      ]
     },
     "execution_count": 5,
     "metadata": {},
     "output_type": "execute_result"
    }
   ],
   "source": [
    "preg.head()"
   ]
  },
  {
   "cell_type": "code",
   "execution_count": 6,
   "metadata": {},
   "outputs": [
    {
     "data": {
      "image/png": "[encoded data removed]",
      "text/plain": [
       "<Figure size 432x288 with 1 Axes>"
      ]
     },
     "metadata": {
      "needs_background": "light"
     },
     "output_type": "display_data"
    }
   ],
   "source": [
    "hist = thinkstats2.Hist(preg.poverty, label='poverty')\n",
    "thinkplot.Hist(hist)\n",
    "thinkplot.Config(xlabel='poverty percentage bucket', ylabel='Count')"
   ]
  },
  {
   "cell_type": "code",
   "execution_count": 7,
   "metadata": {},
   "outputs": [
    {
     "data": {
      "image/png": "[encoded data removed]",
      "text/plain": [
       "<Figure size 432x288 with 1 Axes>"
      ]
     },
     "metadata": {
      "needs_background": "light"
     },
     "output_type": "display_data"
    }
   ],
   "source": [
    "pmfPov = thinkstats2.Pmf(hist)\n",
    "thinkplot.Pmf(pmfPov)"
   ]
  },
  {
   "cell_type": "code",
   "execution_count": 8,
   "metadata": {},
   "outputs": [
    {
     "data": {
      "text/plain": [
       "{'xscale': 'linear', 'yscale': 'linear'}"
      ]
     },
     "execution_count": 8,
     "metadata": {},
     "output_type": "execute_result"
    },
    {
     "data": {
      "image/png": "[encoded data removed]",
      "text/plain": [
       "<Figure size 432x288 with 1 Axes>"
      ]
     },
     "metadata": {
      "needs_background": "light"
     },
     "output_type": "display_data"
    }
   ],
   "source": [
    "cdfPov = thinkstats2.Cdf(preg.poverty)\n",
    "thinkplot.Cdf(cdfPov)"
   ]
  },
  {
   "cell_type": "code",
   "execution_count": 9,
   "metadata": {},
   "outputs": [
    {
     "data": {
      "image/png": "[encoded data removed]",
      "text/plain": [
       "<Figure size 432x288 with 1 Axes>"
      ]
     },
     "metadata": {
      "needs_background": "light"
     },
     "output_type": "display_data"
    }
   ],
   "source": [
    "hist = thinkstats2.Hist(preg.religion, label='religion')\n",
    "thinkplot.Hist(hist)\n",
    "thinkplot.Config(xlabel='religious affiliation', ylabel='Count')"
   ]
  },
  {
   "cell_type": "code",
   "execution_count": 10,
   "metadata": {},
   "outputs": [
    {
     "data": {
      "image/png": "[encoded data removed]",
      "text/plain": [
       "<Figure size 432x288 with 1 Axes>"
      ]
     },
     "metadata": {
      "needs_background": "light"
     },
     "output_type": "display_data"
    }
   ],
   "source": [
    "pmfRel = thinkstats2.Pmf(hist)\n",
    "thinkplot.Pmf(pmfRel)"
   ]
  },
  {
   "cell_type": "code",
   "execution_count": 11,
   "metadata": {},
   "outputs": [
    {
     "data": {
      "text/plain": [
       "{'xscale': 'linear', 'yscale': 'linear'}"
      ]
     },
     "execution_count": 11,
     "metadata": {},
     "output_type": "execute_result"
    },
    {
     "data": {
      "image/png": "[encoded data removed]",
      "text/plain": [
       "<Figure size 432x288 with 1 Axes>"
      ]
     },
     "metadata": {
      "needs_background": "light"
     },
     "output_type": "display_data"
    }
   ],
   "source": [
    "cdfRel = thinkstats2.Cdf(preg.religion)\n",
    "thinkplot.Cdf(cdfRel)"
   ]
  },
  {
   "cell_type": "code",
   "execution_count": 12,
   "metadata": {},
   "outputs": [
    {
     "data": {
      "image/png": "[encoded data removed]",
      "text/plain": [
       "<Figure size 432x288 with 1 Axes>"
      ]
     },
     "metadata": {
      "needs_background": "light"
     },
     "output_type": "display_data"
    }
   ],
   "source": [
    "hist = thinkstats2.Hist(preg.educat, label='educat')\n",
    "thinkplot.Hist(hist)\n",
    "thinkplot.Config(xlabel='Years of education', ylabel='Count')"
   ]
  },
  {
   "cell_type": "code",
   "execution_count": 13,
   "metadata": {},
   "outputs": [
    {
     "data": {
      "image/png": "[encoded data removed]",
      "text/plain": [
       "<Figure size 432x288 with 1 Axes>"
      ]
     },
     "metadata": {
      "needs_background": "light"
     },
     "output_type": "display_data"
    }
   ],
   "source": [
    "pmfEdu = thinkstats2.Pmf(hist)\n",
    "thinkplot.Pmf(pmfEdu)"
   ]
  },
  {
   "cell_type": "code",
   "execution_count": 14,
   "metadata": {},
   "outputs": [
    {
     "data": {
      "text/plain": [
       "{'xscale': 'linear', 'yscale': 'linear'}"
      ]
     },
     "execution_count": 14,
     "metadata": {},
     "output_type": "execute_result"
    },
    {
     "data": {
      "image/png": "[encoded data removed]",
      "text/plain": [
       "<Figure size 432x288 with 1 Axes>"
      ]
     },
     "metadata": {
      "needs_background": "light"
     },
     "output_type": "display_data"
    }
   ],
   "source": [
    "cdfEdu = thinkstats2.Cdf(preg.educat)\n",
    "thinkplot.Cdf(cdfEdu)"
   ]
  },
  {
   "cell_type": "code",
   "execution_count": 15,
   "metadata": {},
   "outputs": [
    {
     "data": {
      "image/png": "[encoded data removed]",
      "text/plain": [
       "<Figure size 432x288 with 1 Axes>"
      ]
     },
     "metadata": {
      "needs_background": "light"
     },
     "output_type": "display_data"
    }
   ],
   "source": [
    "hist = thinkstats2.Hist(preg.prgoutcome, label='prgoutcome')\n",
    "thinkplot.Hist(hist)\n",
    "thinkplot.Config(xlabel='Pregnancy outcome', ylabel='Count')"
   ]
  },
  {
   "cell_type": "code",
   "execution_count": 16,
   "metadata": {},
   "outputs": [
    {
     "data": {
      "image/png": "[encoded data removed]",
      "text/plain": [
       "<Figure size 432x288 with 1 Axes>"
      ]
     },
     "metadata": {
      "needs_background": "light"
     },
     "output_type": "display_data"
    }
   ],
   "source": [
    "pmfPOut = thinkstats2.Pmf(hist)\n",
    "thinkplot.Pmf(pmfPOut)"
   ]
  },
  {
   "cell_type": "code",
   "execution_count": 17,
   "metadata": {},
   "outputs": [
    {
     "data": {
      "text/plain": [
       "{'xscale': 'linear', 'yscale': 'linear'}"
      ]
     },
     "execution_count": 17,
     "metadata": {},
     "output_type": "execute_result"
    },
    {
     "data": {
      "image/png": "[encoded data removed]",
      "text/plain": [
       "<Figure size 432x288 with 1 Axes>"
      ]
     },
     "metadata": {
      "needs_background": "light"
     },
     "output_type": "display_data"
    }
   ],
   "source": [
    "cdfPOut = thinkstats2.Cdf(preg.prgoutcome)\n",
    "thinkplot.Cdf(cdfPOut)"
   ]
  },
  {
   "cell_type": "code",
   "execution_count": 18,
   "metadata": {},
   "outputs": [
    {
     "data": {
      "image/png": "[encoded data removed]",
      "text/plain": [
       "<Figure size 432x288 with 1 Axes>"
      ]
     },
     "metadata": {
      "needs_background": "light"
     },
     "output_type": "display_data"
    }
   ],
   "source": [
    "hist = thinkstats2.Hist(preg.pregnum, label='pregnum')\n",
    "thinkplot.Hist(hist)\n",
    "thinkplot.Config(xlabel='Pregnancy number', ylabel='Count')"
   ]
  },
  {
   "cell_type": "code",
   "execution_count": 19,
   "metadata": {},
   "outputs": [
    {
     "data": {
      "image/png": "[encoded data removed]",
      "text/plain": [
       "<Figure size 432x288 with 1 Axes>"
      ]
     },
     "metadata": {
      "needs_background": "light"
     },
     "output_type": "display_data"
    },
    {
     "data": {
      "text/plain": [
       "<Figure size 576x432 with 0 Axes>"
      ]
     },
     "metadata": {},
     "output_type": "display_data"
    }
   ],
   "source": [
    "pmfPNum = thinkstats2.Pmf(hist)\n",
    "thinkplot.Pmf(pmfPNum)\n",
    "thinkplot.show(xlabel=\"Pregnancy Number\", ylabel=\"CDF\", title=\"CDF of Pregnancy Number\")"
   ]
  },
  {
   "cell_type": "code",
   "execution_count": 20,
   "metadata": {},
   "outputs": [
    {
     "data": {
      "text/plain": [
       "{'xscale': 'linear', 'yscale': 'linear'}"
      ]
     },
     "execution_count": 20,
     "metadata": {},
     "output_type": "execute_result"
    },
    {
     "data": {
      "image/png": "[encoded data removed]",
      "text/plain": [
       "<Figure size 432x288 with 1 Axes>"
      ]
     },
     "metadata": {
      "needs_background": "light"
     },
     "output_type": "display_data"
    }
   ],
   "source": [
    "cdfPNum = thinkstats2.Cdf(preg.pregnum)\n",
    "thinkplot.Cdf(cdfPNum)"
   ]
  },
  {
   "cell_type": "code",
   "execution_count": 21,
   "metadata": {},
   "outputs": [
    {
     "data": {
      "text/plain": [
       "(219.22614581034355,\n",
       " 180.0,\n",
       " 0    500\n",
       " dtype: int64)"
      ]
     },
     "execution_count": 21,
     "metadata": {},
     "output_type": "execute_result"
    }
   ],
   "source": [
    "preg.poverty.mean(),preg.poverty.median(), preg.poverty.mode()"
   ]
  },
  {
   "cell_type": "code",
   "execution_count": 22,
   "metadata": {},
   "outputs": [
    {
     "data": {
      "text/plain": [
       "(2.4910615758110795,\n",
       " 3.0,\n",
       " 0    3\n",
       " dtype: int64)"
      ]
     },
     "execution_count": 22,
     "metadata": {},
     "output_type": "execute_result"
    }
   ],
   "source": [
    "preg.religion.mean(),preg.religion.median(), preg.religion.mode()"
   ]
  },
  {
   "cell_type": "code",
   "execution_count": 23,
   "metadata": {},
   "outputs": [
    {
     "data": {
      "text/plain": [
       "(12.66468035018024,\n",
       " 12.0,\n",
       " 0    12\n",
       " dtype: int64)"
      ]
     },
     "execution_count": 23,
     "metadata": {},
     "output_type": "execute_result"
    }
   ],
   "source": [
    "preg.educat.mean(),preg.educat.median(), preg.educat.mode()"
   ]
  },
  {
   "cell_type": "code",
   "execution_count": 24,
   "metadata": {},
   "outputs": [
    {
     "data": {
      "text/plain": [
       "(1.351088159350793,\n",
       " 1.0,\n",
       " 0    1.0\n",
       " dtype: float64)"
      ]
     },
     "execution_count": 24,
     "metadata": {},
     "output_type": "execute_result"
    }
   ],
   "source": [
    "preg.prgoutcome.mean(),preg.prgoutcome.median(), preg.prgoutcome.mode()"
   ]
  },
  {
   "cell_type": "code",
   "execution_count": 25,
   "metadata": {},
   "outputs": [
    {
     "data": {
      "text/plain": [
       "(3.698300595894946,\n",
       " 3.0,\n",
       " 0    3\n",
       " dtype: int64)"
      ]
     },
     "execution_count": 25,
     "metadata": {},
     "output_type": "execute_result"
    }
   ],
   "source": [
    "preg.pregnum.mean(),preg.pregnum.median(), preg.pregnum.mode()"
   ]
  },
  {
   "cell_type": "code",
   "execution_count": 26,
   "metadata": {
    "scrolled": true
   },
   "outputs": [
    {
     "data": {
      "text/html": [
       "<div>\n",
       "<style scoped>\n",
       "    .dataframe tbody tr th:only-of-type {\n",
       "        vertical-align: middle;\n",
       "    }\n",
       "\n",
       "    .dataframe tbody tr th {\n",
       "        vertical-align: top;\n",
       "    }\n",
       "\n",
       "    .dataframe thead th {\n",
       "        text-align: right;\n",
       "    }\n",
       "</style>\n",
       "<table border=\"1\" class=\"dataframe\">\n",
       "  <thead>\n",
       "    <tr style=\"text-align: right;\">\n",
       "      <th></th>\n",
       "      <th>poverty</th>\n",
       "      <th>religion</th>\n",
       "      <th>educat</th>\n",
       "      <th>prgoutcome</th>\n",
       "      <th>pregnum</th>\n",
       "    </tr>\n",
       "  </thead>\n",
       "  <tbody>\n",
       "    <tr>\n",
       "      <th>mean</th>\n",
       "      <td>219.226146</td>\n",
       "      <td>2.491062</td>\n",
       "      <td>12.664680</td>\n",
       "      <td>1.351088</td>\n",
       "      <td>3.698301</td>\n",
       "    </tr>\n",
       "    <tr>\n",
       "      <th>min</th>\n",
       "      <td>7.000000</td>\n",
       "      <td>1.000000</td>\n",
       "      <td>9.000000</td>\n",
       "      <td>1.000000</td>\n",
       "      <td>1.000000</td>\n",
       "    </tr>\n",
       "    <tr>\n",
       "      <th>max</th>\n",
       "      <td>500.000000</td>\n",
       "      <td>4.000000</td>\n",
       "      <td>19.000000</td>\n",
       "      <td>3.000000</td>\n",
       "      <td>19.000000</td>\n",
       "    </tr>\n",
       "    <tr>\n",
       "      <th>median</th>\n",
       "      <td>180.000000</td>\n",
       "      <td>3.000000</td>\n",
       "      <td>12.000000</td>\n",
       "      <td>1.000000</td>\n",
       "      <td>3.000000</td>\n",
       "    </tr>\n",
       "    <tr>\n",
       "      <th>skew</th>\n",
       "      <td>0.524108</td>\n",
       "      <td>-0.480107</td>\n",
       "      <td>0.424114</td>\n",
       "      <td>1.141946</td>\n",
       "      <td>1.617534</td>\n",
       "    </tr>\n",
       "  </tbody>\n",
       "</table>\n",
       "</div>"
      ],
      "text/plain": [
       "           poverty  religion     educat  prgoutcome    pregnum\n",
       "mean    219.226146  2.491062  12.664680    1.351088   3.698301\n",
       "min       7.000000  1.000000   9.000000    1.000000   1.000000\n",
       "max     500.000000  4.000000  19.000000    3.000000  19.000000\n",
       "median  180.000000  3.000000  12.000000    1.000000   3.000000\n",
       "skew      0.524108 -0.480107   0.424114    1.141946   1.617534"
      ]
     },
     "execution_count": 26,
     "metadata": {},
     "output_type": "execute_result"
    }
   ],
   "source": [
    "preg.agg({'poverty': ['mean','min', 'max', 'median', 'skew'],\n",
    "         'religion': ['mean','min', 'max', 'median', 'skew'],\n",
    "         'educat': ['mean','min', 'max', 'median', 'skew'],\n",
    "         'prgoutcome': ['mean','min', 'max', 'median', 'skew'],\n",
    "         'pregnum': ['mean','min', 'max', 'median', 'skew'],})"
   ]
  },
  {
   "cell_type": "code",
   "execution_count": 27,
   "metadata": {},
   "outputs": [],
   "source": [
    "#Analytical distribution goes here"
   ]
  },
  {
   "cell_type": "code",
   "execution_count": 36,
   "metadata": {},
   "outputs": [
    {
     "data": {
      "image/png": "[encoded data removed]",
      "text/plain": [
       "<Figure size 432x288 with 1 Axes>"
      ]
     },
     "metadata": {
      "needs_background": "light"
     },
     "output_type": "display_data"
    }
   ],
   "source": [
    "#pregnancy education v education\n",
    "\n",
    "thinkplot.Scatter(preg.poverty, preg.educat)\n",
    "thinkplot.Config(xlabel='Poverty percentage',\n",
    "                 ylabel='Years of education',\n",
    "                 title='Education and relation to poverty levels in pregnant respondents')"
   ]
  },
  {
   "cell_type": "code",
   "execution_count": 37,
   "metadata": {},
   "outputs": [
    {
     "data": {
      "image/png": "[encoded data removed]",
      "text/plain": [
       "<Figure size 432x288 with 1 Axes>"
      ]
     },
     "metadata": {
      "needs_background": "light"
     },
     "output_type": "display_data"
    }
   ],
   "source": [
    "#religion v pregnum\n",
    "\n",
    "thinkplot.Scatter(preg.pregnum, preg.religion)\n",
    "thinkplot.Config(xlabel='Number of pregnancies',\n",
    "                 ylabel='Relgious affiliation',\n",
    "                 title='Relation between a respondents religion and the number of pregnancies')"
   ]
  },
  {
   "cell_type": "code",
   "execution_count": 39,
   "metadata": {},
   "outputs": [
    {
     "name": "stdout",
     "output_type": "stream",
     "text": [
      "10.929010819867695 0.007917256054914643\n"
     ]
    }
   ],
   "source": [
    "inter, slope = thinkstats2.LeastSquares(preg.poverty, preg.educat)\n",
    "print(inter, slope)"
   ]
  },
  {
   "cell_type": "code",
   "execution_count": 43,
   "metadata": {},
   "outputs": [
    {
     "data": {
      "image/png": "[encoded data removed]",
      "text/plain": [
       "<Figure size 432x288 with 1 Axes>"
      ]
     },
     "metadata": {
      "needs_background": "light"
     },
     "output_type": "display_data"
    }
   ],
   "source": [
    "thinkplot.Scatter(preg.poverty, preg.educat, alpha=0.1, s=5)\n",
    "fxs, fys = thinkstats2.FitLine(preg.poverty, inter, slope)\n",
    "thinkplot.Plot(fxs, fys, color='red')\n",
    "thinkplot.Config(xlabel='Poverty percentage', ylabel='Education (Years)', title='Poverty V Education with least squares regression')"
   ]
  },
  {
   "cell_type": "code",
   "execution_count": null,
   "metadata": {},
   "outputs": [],
   "source": []
  }
 ],
 "metadata": {
  "kernelspec": {
   "display_name": "Python 3",
   "language": "python",
   "name": "python3"
  },
  "language_info": {
   "codemirror_mode": {
    "name": "ipython",
    "version": 3
   },
   "file_extension": ".py",
   "mimetype": "text/x-python",
   "name": "python",
   "nbconvert_exporter": "python",
   "pygments_lexer": "ipython3",
   "version": "3.7.6"
  }
 },
 "nbformat": 4,
 "nbformat_minor": 4
}
